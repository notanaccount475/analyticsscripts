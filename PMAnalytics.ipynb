{
 "cells": [
  {
   "cell_type": "markdown",
   "id": "c4068498",
   "metadata": {},
   "source": [
    "# Connect to DB"
   ]
  },
  {
   "cell_type": "code",
   "execution_count": 2,
   "id": "f6ef53e8",
   "metadata": {},
   "outputs": [
    {
     "ename": "ProgrammingError",
     "evalue": "('42000', \"[42000] [Microsoft][ODBC Driver 17 for SQL Server][SQL Server]Cannot open server 'rpenterprise' requested by the login. Client with IP address '174.64.24.197' is not allowed to access the server.  To enable access, use the Azure Management Portal or run sp_set_firewall_rule on the master database to create a firewall rule for this IP address or address range.  It may take up to five minutes for this change to take effect. (40615) (SQLDriverConnect); [42000] [Microsoft][ODBC Driver 17 for SQL Server]Invalid connection string attribute (0); [42000] [Microsoft][ODBC Driver 17 for SQL Server][SQL Server]Cannot open server 'rpenterprise' requested by the login. Client with IP address '174.64.24.197' is not allowed to access the server.  To enable access, use the Azure Management Portal or run sp_set_firewall_rule on the master database to create a firewall rule for this IP address or address range.  It may take up to five minutes for this change to take effect. (40615); [42000] [Microsoft][ODBC Driver 17 for SQL Server]Invalid connection string attribute (0)\")",
     "output_type": "error",
     "traceback": [
      "\u001b[1;31m---------------------------------------------------------------------------\u001b[0m",
      "\u001b[1;31mProgrammingError\u001b[0m                          Traceback (most recent call last)",
      "Cell \u001b[1;32mIn[2], line 15\u001b[0m\n\u001b[0;32m     12\u001b[0m conn_str \u001b[38;5;241m=\u001b[39m \u001b[38;5;124mf\u001b[39m\u001b[38;5;124m'\u001b[39m\u001b[38;5;124mDRIVER=\u001b[39m\u001b[38;5;132;01m{\u001b[39;00mdriver\u001b[38;5;132;01m}\u001b[39;00m\u001b[38;5;124m;SERVER=tcp:\u001b[39m\u001b[38;5;132;01m{\u001b[39;00mserver\u001b[38;5;132;01m}\u001b[39;00m\u001b[38;5;124m;PORT=1433;DATABASE=\u001b[39m\u001b[38;5;132;01m{\u001b[39;00mdatabase\u001b[38;5;132;01m}\u001b[39;00m\u001b[38;5;124m;UID=\u001b[39m\u001b[38;5;132;01m{\u001b[39;00musername\u001b[38;5;132;01m}\u001b[39;00m\u001b[38;5;124m;PWD=\u001b[39m\u001b[38;5;132;01m{\u001b[39;00mpassword\u001b[38;5;132;01m}\u001b[39;00m\u001b[38;5;124m'\u001b[39m\n\u001b[0;32m     14\u001b[0m \u001b[38;5;66;03m# Connect to database\u001b[39;00m\n\u001b[1;32m---> 15\u001b[0m conn \u001b[38;5;241m=\u001b[39m \u001b[43mpyodbc\u001b[49m\u001b[38;5;241;43m.\u001b[39;49m\u001b[43mconnect\u001b[49m\u001b[43m(\u001b[49m\u001b[43mconn_str\u001b[49m\u001b[43m)\u001b[49m\n",
      "\u001b[1;31mProgrammingError\u001b[0m: ('42000', \"[42000] [Microsoft][ODBC Driver 17 for SQL Server][SQL Server]Cannot open server 'rpenterprise' requested by the login. Client with IP address '174.64.24.197' is not allowed to access the server.  To enable access, use the Azure Management Portal or run sp_set_firewall_rule on the master database to create a firewall rule for this IP address or address range.  It may take up to five minutes for this change to take effect. (40615) (SQLDriverConnect); [42000] [Microsoft][ODBC Driver 17 for SQL Server]Invalid connection string attribute (0); [42000] [Microsoft][ODBC Driver 17 for SQL Server][SQL Server]Cannot open server 'rpenterprise' requested by the login. Client with IP address '174.64.24.197' is not allowed to access the server.  To enable access, use the Azure Management Portal or run sp_set_firewall_rule on the master database to create a firewall rule for this IP address or address range.  It may take up to five minutes for this change to take effect. (40615); [42000] [Microsoft][ODBC Driver 17 for SQL Server]Invalid connection string attribute (0)\")"
     ]
    }
   ],
   "source": [
    "import pyodbc\n",
    "import pandas as pd\n",
    "import datetime\n",
    "\n",
    "server = 'rpenterprise.database.windows.net'\n",
    "database = 'PMAnalytics'\n",
    "username = 'stephanie_lin'\n",
    "password = 'GKfb5M0PDoJ0M7tVxa6Y'\n",
    "driver= '{ODBC Driver 17 for SQL Server}'\n",
    "\n",
    "# Construct connection string\n",
    "conn_str = f'DRIVER={driver};SERVER=tcp:{server};PORT=1433;DATABASE={database};UID={username};PWD={password}'\n",
    "\n",
    "# Connect to database\n",
    "conn = pyodbc.connect(conn_str)"
   ]
  },
  {
   "cell_type": "code",
   "execution_count": 3,
   "id": "93b86727",
   "metadata": {},
   "outputs": [
    {
     "name": "stderr",
     "output_type": "stream",
     "text": [
      "C:\\Users\\StephanieLin\\AppData\\Local\\Temp\\ipykernel_13632\\1055891660.py:3: UserWarning: pandas only supports SQLAlchemy connectable (engine/connection) or database string URI or sqlite3 DBAPI2 connection. Other DBAPI2 objects are not tested. Please consider using SQLAlchemy.\n",
      "  work_effort = pd.read_sql(sql_query1, conn)\n",
      "C:\\Users\\StephanieLin\\AppData\\Local\\Temp\\ipykernel_13632\\1055891660.py:6: UserWarning: pandas only supports SQLAlchemy connectable (engine/connection) or database string URI or sqlite3 DBAPI2 connection. Other DBAPI2 objects are not tested. Please consider using SQLAlchemy.\n",
      "  resource_view = pd.read_sql(sql_query3, conn)\n",
      "C:\\Users\\StephanieLin\\AppData\\Local\\Temp\\ipykernel_13632\\1055891660.py:9: UserWarning: pandas only supports SQLAlchemy connectable (engine/connection) or database string URI or sqlite3 DBAPI2 connection. Other DBAPI2 objects are not tested. Please consider using SQLAlchemy.\n",
      "  work_effort_resource = pd.read_sql(sql_query2, conn)\n"
     ]
    }
   ],
   "source": [
    "# Execute the queries and load into dfs\n",
    "sql_query1 = 'select * from work_effort'\n",
    "work_effort = pd.read_sql(sql_query1, conn)\n",
    "\n",
    "sql_query3 = 'select work_effort_id, EMPID, direct_reports, team_size, hire_date, grade from resource_view'\n",
    "resource_view = pd.read_sql(sql_query3, conn)\n",
    "\n",
    "sql_query2 = 'select * from work_effort_resource'\n",
    "work_effort_resource = pd.read_sql(sql_query2, conn)"
   ]
  },
  {
   "cell_type": "markdown",
   "id": "444ed9b9",
   "metadata": {},
   "source": [
    "# Filter based on user input ; Merge into Master table"
   ]
  },
  {
   "cell_type": "code",
   "execution_count": 5,
   "id": "13dad5bf",
   "metadata": {},
   "outputs": [
    {
     "name": "stdout",
     "output_type": "stream",
     "text": [
      "Please select from the following work effort roles (you can choose multiple by separating them with a comma):\n",
      "1. analyst\n",
      "2. sponsor\n",
      "3. manager\n",
      "4. scrum_master\n",
      "5. business_analyst\n",
      "6. director\n",
      "Enter your choices (e.g., 1, 4): 1, 4\n",
      "You selected: analyst, scrum_master\n"
     ]
    }
   ],
   "source": [
    "work_effort_roles = ['analyst', 'sponsor', 'manager', 'scrum_master', 'business_analyst', 'director']\n",
    "\n",
    "# Display roles to the user\n",
    "print(\"Please select from the following work effort roles (you can choose multiple by separating them with a comma):\")\n",
    "for i, role in enumerate(work_effort_roles, start=1):\n",
    "    print(f\"{i}. {role}\")\n",
    "\n",
    "# Get user input\n",
    "user_input = input(\"Enter your choices (e.g., 1, 4): \")\n",
    "\n",
    "selected_indices = [int(x.strip()) - 1 for x in user_input.split(\",\") if x.strip().isdigit()]\n",
    "selected_roles = [work_effort_roles[i] for i in selected_indices if 0 <= i < len(work_effort_roles)]\n",
    "        \n",
    "if selected_roles:\n",
    "    print(\"You selected:\", \", \".join(selected_roles))\n",
    "else:\n",
    "    print(\"Not a valid entry; please try again!\")\n"
   ]
  },
  {
   "cell_type": "code",
   "execution_count": 6,
   "id": "9fe6b2f8",
   "metadata": {
    "scrolled": true
   },
   "outputs": [
    {
     "name": "stdout",
     "output_type": "stream",
     "text": [
      "Please select from the following work effort types (you can choose multiple by separating them with a comma):\n",
      "1. Project\n",
      "2. Program\n",
      "3. Initiative\n",
      "Enter your choices (e.g., 1, 2): 2\n",
      "You selected: Program\n"
     ]
    }
   ],
   "source": [
    "work_effort_types = ['Project', 'Program', 'Initiative']\n",
    "\n",
    "print(\"Please select from the following work effort types (you can choose multiple by separating them with a comma):\")\n",
    "for i, role in enumerate(work_effort_types, start=1):\n",
    "    print(f\"{i}. {role}\")\n",
    "\n",
    "# Get user input\n",
    "user_input = input(\"Enter your choices (e.g., 1, 2): \")\n",
    "\n",
    "selected_indices = [int(x.strip()) - 1 for x in user_input.split(\",\") if x.strip().isdigit()]\n",
    "selected_types = [work_effort_types[i] for i in selected_indices if 0 <= i < len(work_effort_types)]\n",
    "        \n",
    "if selected_types:\n",
    "    print(\"You selected:\", \", \".join(selected_types))\n",
    "else:\n",
    "    print(\"Not a valid entry; please try again!\")\n"
   ]
  },
  {
   "cell_type": "code",
   "execution_count": 7,
   "id": "8ac71c9f",
   "metadata": {},
   "outputs": [
    {
     "name": "stdout",
     "output_type": "stream",
     "text": [
      "Enter the month to filter by (1-12): 4\n"
     ]
    }
   ],
   "source": [
    "#CHANGE TO INPUT, maybe not needed\n",
    "#cutoff_year = 2022\n",
    "#cutoff_month = 12\n",
    "#cutoff_day = 31\n",
    "# = datetime.date(cutoff_year, cutoff_month, cutoff_day)\n",
    "\n",
    "#date range filter\n",
    "month_input = int(input(\"Enter the month to filter by (1-12): \"))\n",
    "work_effort['extract_date'] = pd.to_datetime(work_effort['extract_date'])\n",
    "\n",
    "#assuming we are always just trying to ID employees\n",
    "group_by = 'EMPID'\n",
    "\n",
    "#filter work effort resource table by user selected role\n",
    "filtered_wer = work_effort_resource[work_effort_resource['role'].isin(selected_roles)]\n",
    "\n",
    "# Strip leading/trailing spaces\n",
    "work_effort['rag_status'] = work_effort['rag_status'].str.strip()\n",
    "work_effort['state'] = work_effort['state'].str.strip()\n",
    "work_effort['work_effort_type'] = work_effort['work_effort_type'].str.strip()\n",
    "\n",
    "#filter work effort table by other user selections\n",
    "filtered_we = work_effort[\n",
    "    (work_effort['state'].isin(['Committed', 'Approved'])) &\n",
    "    (work_effort['rag_status'].isin(['Red', 'Amber', 'Green'])) &\n",
    "#   (work_effort['most_current_end_date'] > cutoff_date) & \n",
    "    (work_effort['work_effort_type'].isin(selected_types)) &\n",
    "    (work_effort['extract_date'].dt.month == month_input)\n",
    "]\n",
    "\n",
    "#work_effort.work_effort_type.unique()\n",
    "#filtered_work_effort.head()\n",
    "#filtered_we\n",
    "#filtered_wer.role.unique()\n",
    "\n",
    "#filtered_we.work_effort_type.unique()\n",
    "#work_effort.work_effort_type.unique()\n"
   ]
  },
  {
   "cell_type": "code",
   "execution_count": 8,
   "id": "18d4fb53",
   "metadata": {},
   "outputs": [],
   "source": [
    "#adding tenure columns. days will be default\n",
    "\n",
    "# Assuming 'resource_view' DataFrame already exists and 'hire_date' is in datetime format\n",
    "# If 'hire_date' is not in datetime format, you can convert it using:\n",
    "resource_view['hire_date'] = pd.to_datetime(resource_view['hire_date'], errors='coerce')\n",
    "\n",
    "# Calculate tenure in days and add it as a new column\n",
    "today = pd.Timestamp.today()\n",
    "resource_view['tenure'] = (today - resource_view['hire_date']).dt.days\n",
    "\n",
    "# If you want tenure in years, you can divide by 365.25 (taking leap years into account)\n",
    "#resource_view['tenure_years'] = resource_view['tenure'] / 365.25\n",
    "\n",
    "#resource_view"
   ]
  },
  {
   "cell_type": "code",
   "execution_count": 9,
   "id": "2163ebb6",
   "metadata": {},
   "outputs": [],
   "source": [
    "#merge all 3 tables into df called 'master'\n",
    "merged = pd.merge(filtered_we, filtered_wer, on='work_effort_id', how='left')\n",
    "master = pd.merge(merged, resource_view, on='work_effort_id', how='left')\n",
    "#pd.set_option('display.max_columns', None)\n",
    "#master.head()"
   ]
  },
  {
   "cell_type": "markdown",
   "id": "f49f3567",
   "metadata": {},
   "source": [
    "# Choose grouping calculation and column to group"
   ]
  },
  {
   "cell_type": "code",
   "execution_count": 26,
   "id": "bb3a0830",
   "metadata": {},
   "outputs": [
    {
     "name": "stdout",
     "output_type": "stream",
     "text": [
      "Enter the operation (count, average, sum): sum\n",
      "Choose a column for summing:\n",
      "1. Direct_reports\n",
      "2. Team_size\n",
      "Enter your choice (1 for Direct_reports, 2 for Team_size): 2\n",
      "Summing based on: team_size\n"
     ]
    }
   ],
   "source": [
    "# Assuming operation is a variable that contains the operation type ('count', 'average', or 'sum')\n",
    "operation = input(\"Enter the operation (count, average, sum): \")\n",
    "\n",
    "if operation.lower() == 'count':\n",
    "    count_col = 'work_effort_id'  \n",
    "    print(f\"Counting based on: {count_col}\")\n",
    "\n",
    "elif operation.lower() == 'average':\n",
    "    print(\"Choose a column for averaging:\")\n",
    "    print(\"1. Tenure\")\n",
    "    print(\"2. Grade\")\n",
    "    choice = input(\"Enter your choice (1 for Tenure, 2 for Grade): \")\n",
    "    if choice == '1':\n",
    "        avg_col = 'tenure'\n",
    "    elif choice == '2':\n",
    "        avg_col = 'grade'\n",
    "    else:\n",
    "        print(\"Invalid choice. Defaulting to 'Tenure'.\")\n",
    "        avg_col = 'tenure'\n",
    "    print(f\"Averaging based on: {avg_col}\")\n",
    "\n",
    "elif operation.lower() == 'sum':\n",
    "    print(\"Choose a column for summing:\")\n",
    "    print(\"1. Direct_reports\")\n",
    "    print(\"2. Team_size\")\n",
    "    choice = input(\"Enter your choice (1 for Direct_reports, 2 for Team_size): \")\n",
    "    if choice == '1':\n",
    "        sum_col = 'direct_reports'\n",
    "    elif choice == '2':\n",
    "        sum_col = 'team_size'\n",
    "    else:\n",
    "        print(\"Invalid choice. Defaulting to 'Direct_reports'.\")\n",
    "        sum_col = 'direct_reports'\n",
    "    print(f\"Summing based on: {sum_col}\")\n",
    "\n",
    "else:\n",
    "    print(\"Invalid operation specified. Please enter 'count', 'average', or 'sum'.\")\n"
   ]
  },
  {
   "cell_type": "code",
   "execution_count": 11,
   "id": "9ea2c8dc",
   "metadata": {},
   "outputs": [],
   "source": [
    "def count_grouped_items(df, group_cols, count_col):\n",
    "    if isinstance(group_cols, str):\n",
    "        group_cols = [group_cols]\n",
    "    grouped = df.groupby(group_cols)[count_col].count().reset_index(name=f'count_{count_col}')\n",
    "    return grouped\n",
    "\n",
    "def sum_grouped_items(df, group_cols, sumcol):\n",
    "    if isinstance(group_cols, str):\n",
    "        group_cols = [group_cols]\n",
    "    grouped = df.groupby(group_cols)[sum_col].sum().reset_index(name=f'sum_{sum_col}')\n",
    "    return grouped\n",
    "\n",
    "def avg_grouped_items(df, group_cols, avgcol):\n",
    "    if isinstance(group_cols, str):\n",
    "        group_cols = [group_cols]\n",
    "    grouped = df.groupby(group_cols)[avg_col].mean().reset_index(name=f'avg_{avg_col}')\n",
    "    return grouped\n"
   ]
  },
  {
   "cell_type": "code",
   "execution_count": 12,
   "id": "54d99b17",
   "metadata": {},
   "outputs": [
    {
     "data": {
      "text/html": [
       "<div>\n",
       "<style scoped>\n",
       "    .dataframe tbody tr th:only-of-type {\n",
       "        vertical-align: middle;\n",
       "    }\n",
       "\n",
       "    .dataframe tbody tr th {\n",
       "        vertical-align: top;\n",
       "    }\n",
       "\n",
       "    .dataframe thead th {\n",
       "        text-align: right;\n",
       "    }\n",
       "</style>\n",
       "<table border=\"1\" class=\"dataframe\">\n",
       "  <thead>\n",
       "    <tr style=\"text-align: right;\">\n",
       "      <th></th>\n",
       "      <th>EMPID</th>\n",
       "      <th>avg_grade</th>\n",
       "    </tr>\n",
       "  </thead>\n",
       "  <tbody>\n",
       "  </tbody>\n",
       "</table>\n",
       "</div>"
      ],
      "text/plain": [
       "Empty DataFrame\n",
       "Columns: [EMPID, avg_grade]\n",
       "Index: []"
      ]
     },
     "execution_count": 12,
     "metadata": {},
     "output_type": "execute_result"
    }
   ],
   "source": [
    "if operation.lower() == 'count':\n",
    "    df = count_grouped_items(master, group_by, count_col)\n",
    "\n",
    "elif operation.lower() == 'average':\n",
    "    master[avg_col] = pd.to_numeric(master[avg_col], errors='coerce')\n",
    "    df = avg_grouped_items(master, group_by, avg_col)\n",
    "\n",
    "elif operation.lower() == 'sum':\n",
    "    master[sum_col] = pd.to_numeric(master[sum_col], errors='coerce')\n",
    "    df = sum_grouped_items(master, group_by, sum_col)\n",
    "else:\n",
    "    print(\"Invalid operation specified. Please enter 'count', 'average', or 'sum'.\")\n",
    "    \n",
    "df"
   ]
  },
  {
   "cell_type": "markdown",
   "id": "1a51243a",
   "metadata": {},
   "source": [
    "# Calculate std dev and find EMPIDs to flag"
   ]
  },
  {
   "cell_type": "code",
   "execution_count": 13,
   "id": "72ebd0b5",
   "metadata": {},
   "outputs": [
    {
     "data": {
      "text/html": [
       "<div>\n",
       "<style scoped>\n",
       "    .dataframe tbody tr th:only-of-type {\n",
       "        vertical-align: middle;\n",
       "    }\n",
       "\n",
       "    .dataframe tbody tr th {\n",
       "        vertical-align: top;\n",
       "    }\n",
       "\n",
       "    .dataframe thead th {\n",
       "        text-align: right;\n",
       "    }\n",
       "</style>\n",
       "<table border=\"1\" class=\"dataframe\">\n",
       "  <thead>\n",
       "    <tr style=\"text-align: right;\">\n",
       "      <th></th>\n",
       "      <th>EMPID</th>\n",
       "      <th>avg_grade</th>\n",
       "      <th>average_overall_stddev</th>\n",
       "      <th>average_overall_avg</th>\n",
       "      <th>average_upper_threshold</th>\n",
       "      <th>average_lower_threshold</th>\n",
       "      <th>average_deviation_flag</th>\n",
       "    </tr>\n",
       "  </thead>\n",
       "  <tbody>\n",
       "  </tbody>\n",
       "</table>\n",
       "</div>"
      ],
      "text/plain": [
       "Empty DataFrame\n",
       "Columns: [EMPID, avg_grade, average_overall_stddev, average_overall_avg, average_upper_threshold, average_lower_threshold, average_deviation_flag]\n",
       "Index: []"
      ]
     },
     "execution_count": 13,
     "metadata": {},
     "output_type": "execute_result"
    }
   ],
   "source": [
    "def classify_deviation(df, metric_column, metric_prefix):\n",
    "    avg_val = df[metric_column].mean()\n",
    "    stddev_val = df[metric_column].std()\n",
    "    df[f'{metric_prefix}_overall_stddev'] = stddev_val\n",
    "    df[f'{metric_prefix}_overall_avg'] = avg_val\n",
    "\n",
    "    df[f'{metric_prefix}_upper_threshold'] = avg_val + (3 * stddev_val)\n",
    "    df[f'{metric_prefix}_lower_threshold'] = avg_val - (3 * stddev_val)\n",
    "\n",
    "    def inner_classify_deviation(row):\n",
    "        if row[metric_column] > row[f'{metric_prefix}_upper_threshold']:\n",
    "            return f'Above +3 STD'\n",
    "        elif row[metric_column] < row[f'{metric_prefix}_lower_threshold']:\n",
    "            return f'Below -3 STD'\n",
    "        else:\n",
    "            return 'Within Range'\n",
    "\n",
    "    df[f'{metric_prefix}_deviation_flag'] = df.apply(inner_classify_deviation, axis=1)\n",
    "    return df\n",
    "\n",
    "\n",
    "metric_column = df.columns[1]\n",
    "metric_prefix = operation\n",
    "deviation_counts = classify_deviation(df, metric_column, metric_prefix)\n",
    "deviation_counts\n"
   ]
  },
  {
   "cell_type": "code",
   "execution_count": 14,
   "id": "cbead82c",
   "metadata": {},
   "outputs": [],
   "source": [
    "#filter out not within range\n",
    "result = deviation_counts[deviation_counts[operation+'_deviation_flag'] != 'Within Range']\n",
    "#result\n",
    "\n",
    "#get EMPIDs that are not within range\n",
    "filtered_result = master[master['EMPID'].isin(result['EMPID'])]\n",
    "#filtered_result.EMPID.unique()"
   ]
  },
  {
   "cell_type": "code",
   "execution_count": 15,
   "id": "3f695e92",
   "metadata": {},
   "outputs": [],
   "source": [
    "list_to_flag = filtered_result.EMPID.unique()\n",
    "\n",
    "list_to_flag = [x.strip() for x in list_to_flag]\n",
    "#list_to_flag[0:10]"
   ]
  },
  {
   "cell_type": "code",
   "execution_count": 27,
   "id": "d64e1dc0",
   "metadata": {},
   "outputs": [
    {
     "name": "stdout",
     "output_type": "stream",
     "text": [
      "We have identified employees that have a total team_size of above 3 standard deviations.\n"
     ]
    }
   ],
   "source": [
    "#if empid is in the above list for this work effort, add a column flagging that this is an issue on the original tables\n",
    "\n",
    "# Add a new column 'Deviation_flag' with default value 'N'\n",
    "resource_view['Deviation_flag'] = 'N'\n",
    "\n",
    "# Flag rows where the EMPID is in list_to_flag\n",
    "resource_view.loc[resource_view['EMPID'].isin(list_to_flag), 'Deviation_flag'] = 'Y'\n",
    "\n",
    "resource_view\n",
    "#LIST WHAT SPECIFIC KRI (grouping type and what the grouping is by) THIS IS A DEVIATION FLAG FOR\n",
    "if operation.lower() == 'count':\n",
    "    print(f\"We have identified employees that have a {count_col} count of above 3 standard deviations.\")\n",
    "\n",
    "elif operation.lower() == 'average':\n",
    "    print(f\"We have identified employees that have an average {avg_col} of above 3 standard deviations.\")\n",
    "\n",
    "elif operation.lower() == 'sum':\n",
    "    print(f\"We have identified employees that have a total {sum_col} of above 3 standard deviations.\")\n"
   ]
  }
 ],
 "metadata": {
  "kernelspec": {
   "display_name": "Python 3 (ipykernel)",
   "language": "python",
   "name": "python3"
  },
  "language_info": {
   "codemirror_mode": {
    "name": "ipython",
    "version": 3
   },
   "file_extension": ".py",
   "mimetype": "text/x-python",
   "name": "python",
   "nbconvert_exporter": "python",
   "pygments_lexer": "ipython3",
   "version": "3.10.9"
  }
 },
 "nbformat": 4,
 "nbformat_minor": 5
}
